{
 "cells": [
  {
   "cell_type": "markdown",
   "id": "edbd8df7",
   "metadata": {},
   "source": [
    "## AUTHOR - Simran Sharma\n",
    "\n",
    "## The Sparks Foundation\n",
    "\n",
    "# GripOctober21\n",
    "\n",
    "# TASK 1 - PREDICTION USING Supervised ML\n",
    "\n",
    "# Level - Beginner\n",
    "\n",
    "The task is to predict the percentage of  student based on the Number of study hours.It is a simple linear regression involving just 2 variables.What will be the predicted score if a student studies for 9.25 hrs/day?\n",
    " "
   ]
  },
  {
   "cell_type": "markdown",
   "id": "9f14b53d",
   "metadata": {},
   "source": [
    "\n",
    "# __Importing the Relevant Libraries__"
   ]
  },
  {
   "cell_type": "code",
   "execution_count": 1,
   "id": "579ee192",
   "metadata": {},
   "outputs": [],
   "source": [
    "import numpy as np\n",
    " \n",
    "import pandas as pd\n",
    " \n",
    "import matplotlib.pyplot as plt\n",
    " \n",
    "import statsmodels.api as sm\n",
    "\n",
    "import seaborn as sns\n",
    "from scipy.stats import probplot"
   ]
  },
  {
   "cell_type": "markdown",
   "id": "d0a0cc21",
   "metadata": {},
   "source": [
    "# __Loading the Data And Visualizing the Data Frame__"
   ]
  },
  {
   "cell_type": "code",
   "execution_count": 2,
   "id": "d2e07a8b",
   "metadata": {},
   "outputs": [
    {
     "data": {
      "text/html": [
       "<div>\n",
       "<style scoped>\n",
       "    .dataframe tbody tr th:only-of-type {\n",
       "        vertical-align: middle;\n",
       "    }\n",
       "\n",
       "    .dataframe tbody tr th {\n",
       "        vertical-align: top;\n",
       "    }\n",
       "\n",
       "    .dataframe thead th {\n",
       "        text-align: right;\n",
       "    }\n",
       "</style>\n",
       "<table border=\"1\" class=\"dataframe\">\n",
       "  <thead>\n",
       "    <tr style=\"text-align: right;\">\n",
       "      <th></th>\n",
       "      <th>Hours</th>\n",
       "      <th>Scores</th>\n",
       "    </tr>\n",
       "  </thead>\n",
       "  <tbody>\n",
       "    <tr>\n",
       "      <th>0</th>\n",
       "      <td>2.5</td>\n",
       "      <td>21</td>\n",
       "    </tr>\n",
       "    <tr>\n",
       "      <th>1</th>\n",
       "      <td>5.1</td>\n",
       "      <td>47</td>\n",
       "    </tr>\n",
       "    <tr>\n",
       "      <th>2</th>\n",
       "      <td>3.2</td>\n",
       "      <td>27</td>\n",
       "    </tr>\n",
       "    <tr>\n",
       "      <th>3</th>\n",
       "      <td>8.5</td>\n",
       "      <td>75</td>\n",
       "    </tr>\n",
       "    <tr>\n",
       "      <th>4</th>\n",
       "      <td>3.5</td>\n",
       "      <td>30</td>\n",
       "    </tr>\n",
       "    <tr>\n",
       "      <th>5</th>\n",
       "      <td>1.5</td>\n",
       "      <td>20</td>\n",
       "    </tr>\n",
       "    <tr>\n",
       "      <th>6</th>\n",
       "      <td>9.2</td>\n",
       "      <td>88</td>\n",
       "    </tr>\n",
       "    <tr>\n",
       "      <th>7</th>\n",
       "      <td>5.5</td>\n",
       "      <td>60</td>\n",
       "    </tr>\n",
       "    <tr>\n",
       "      <th>8</th>\n",
       "      <td>8.3</td>\n",
       "      <td>81</td>\n",
       "    </tr>\n",
       "    <tr>\n",
       "      <th>9</th>\n",
       "      <td>2.7</td>\n",
       "      <td>25</td>\n",
       "    </tr>\n",
       "    <tr>\n",
       "      <th>10</th>\n",
       "      <td>7.7</td>\n",
       "      <td>85</td>\n",
       "    </tr>\n",
       "    <tr>\n",
       "      <th>11</th>\n",
       "      <td>5.9</td>\n",
       "      <td>62</td>\n",
       "    </tr>\n",
       "    <tr>\n",
       "      <th>12</th>\n",
       "      <td>4.5</td>\n",
       "      <td>41</td>\n",
       "    </tr>\n",
       "    <tr>\n",
       "      <th>13</th>\n",
       "      <td>3.3</td>\n",
       "      <td>42</td>\n",
       "    </tr>\n",
       "    <tr>\n",
       "      <th>14</th>\n",
       "      <td>1.1</td>\n",
       "      <td>17</td>\n",
       "    </tr>\n",
       "    <tr>\n",
       "      <th>15</th>\n",
       "      <td>8.9</td>\n",
       "      <td>95</td>\n",
       "    </tr>\n",
       "    <tr>\n",
       "      <th>16</th>\n",
       "      <td>2.5</td>\n",
       "      <td>30</td>\n",
       "    </tr>\n",
       "    <tr>\n",
       "      <th>17</th>\n",
       "      <td>1.9</td>\n",
       "      <td>24</td>\n",
       "    </tr>\n",
       "    <tr>\n",
       "      <th>18</th>\n",
       "      <td>6.1</td>\n",
       "      <td>67</td>\n",
       "    </tr>\n",
       "    <tr>\n",
       "      <th>19</th>\n",
       "      <td>7.4</td>\n",
       "      <td>69</td>\n",
       "    </tr>\n",
       "    <tr>\n",
       "      <th>20</th>\n",
       "      <td>2.7</td>\n",
       "      <td>30</td>\n",
       "    </tr>\n",
       "    <tr>\n",
       "      <th>21</th>\n",
       "      <td>4.8</td>\n",
       "      <td>54</td>\n",
       "    </tr>\n",
       "    <tr>\n",
       "      <th>22</th>\n",
       "      <td>3.8</td>\n",
       "      <td>35</td>\n",
       "    </tr>\n",
       "    <tr>\n",
       "      <th>23</th>\n",
       "      <td>6.9</td>\n",
       "      <td>76</td>\n",
       "    </tr>\n",
       "    <tr>\n",
       "      <th>24</th>\n",
       "      <td>7.8</td>\n",
       "      <td>86</td>\n",
       "    </tr>\n",
       "  </tbody>\n",
       "</table>\n",
       "</div>"
      ],
      "text/plain": [
       "    Hours  Scores\n",
       "0     2.5      21\n",
       "1     5.1      47\n",
       "2     3.2      27\n",
       "3     8.5      75\n",
       "4     3.5      30\n",
       "5     1.5      20\n",
       "6     9.2      88\n",
       "7     5.5      60\n",
       "8     8.3      81\n",
       "9     2.7      25\n",
       "10    7.7      85\n",
       "11    5.9      62\n",
       "12    4.5      41\n",
       "13    3.3      42\n",
       "14    1.1      17\n",
       "15    8.9      95\n",
       "16    2.5      30\n",
       "17    1.9      24\n",
       "18    6.1      67\n",
       "19    7.4      69\n",
       "20    2.7      30\n",
       "21    4.8      54\n",
       "22    3.8      35\n",
       "23    6.9      76\n",
       "24    7.8      86"
      ]
     },
     "execution_count": 2,
     "metadata": {},
     "output_type": "execute_result"
    }
   ],
   "source": [
    "data = pd.read_csv('http://bit.ly/w-data')\n",
    "data\n"
   ]
  },
  {
   "cell_type": "markdown",
   "id": "738a325c",
   "metadata": {},
   "source": [
    "# Graphical Univariate Analysis\n",
    "__For univariate analysis, the plots used here are Histogram, density plot, boxplot,violinplot and Normal Q-Q plot. These plots play a major role in understanding the distribution of the data points and the presence of outliers.__\n",
    "\n",
    "__A violin plot is a method of plotting numeric data. It is similar to a box plot, with the addition of a rotated kernel density plot on each side__"
   ]
  },
  {
   "cell_type": "code",
   "execution_count": 3,
   "id": "a3f4dce8",
   "metadata": {},
   "outputs": [
    {
     "data": {
      "text/plain": [
       "Text(0.5, 1.0, \"Q-Q plot of 'Scores'\")"
      ]
     },
     "execution_count": 3,
     "metadata": {},
     "output_type": "execute_result"
    },
    {
     "data": {
      "image/png": "[encoded data removed]",
      "text/plain": [
       "<Figure size 1440x720 with 10 Axes>"
      ]
     },
     "metadata": {
      "needs_background": "light"
     },
     "output_type": "display_data"
    }
   ],
   "source": [
    "import warnings\n",
    "warnings.filterwarnings('ignore')\n",
    "\n",
    "# histogram\n",
    "data = pd.read_csv('http://bit.ly/w-data')\n",
    "plt.figure(figsize=(20,10))\n",
    "plt.subplot(2,5,1)\n",
    "plt.hist(data['Hours'], density=False)\n",
    "plt.title(\"Histogram of 'Hours'\")\n",
    "plt.subplot(2,5,6)\n",
    "plt.hist(data['Scores'], density=False)\n",
    "plt.title(\"Histogram of 'Scores'\")\n",
    "\n",
    "\n",
    "# Density plot\n",
    "plt.subplot(2,5,2)\n",
    "sns.distplot(data['Hours'], kde=True)\n",
    "plt.title(\"Density distribution of 'Hours'\")\n",
    "plt.subplot(2,5,7)\n",
    "sns.distplot(data['Scores'], kde=True)\n",
    "plt.title(\"Density distribution of 'Scores'\")\n",
    "\n",
    "\n",
    "#violinplot\n",
    "plt.subplot(2,5,3)\n",
    "sns.violinplot(data['Hours'])\n",
    "plt.title(\"Violin plot of 'Hours'\")\n",
    "plt.subplot(2,5,8)\n",
    "sns.violinplot(data['Scores'])\n",
    "plt.title(\"Violin plot of 'Scores'\")\n",
    "\n",
    "#Boxplot\n",
    "plt.subplot(2,5,4)\n",
    "plt.boxplot(data['Hours'])\n",
    "plt.title(\"Boxlpot of 'Hours'\")\n",
    "plt.subplot(2,5,9)\n",
    "plt.boxplot(data['Scores'])\n",
    "plt.title(\"Boxlpot of 'Scores'\")\n",
    "plt.subplot(2,5,9)\n",
    "\n",
    "\n",
    "\n",
    "# Normal Q-Q plot\n",
    "plt.subplot(2,5,5)\n",
    "probplot(data['Hours'], plot=plt)\n",
    "plt.title(\"Q-Q plot of 'Hours'\")\n",
    "plt.subplot(2,5,10)\n",
    "probplot(data['Scores'], plot=plt)\n",
    "plt.title(\"Q-Q plot of 'Scores'\")"
   ]
  },
  {
   "cell_type": "code",
   "execution_count": 4,
   "id": "2bc6ed69",
   "metadata": {},
   "outputs": [
    {
     "data": {
      "text/html": [
       "<div>\n",
       "<style scoped>\n",
       "    .dataframe tbody tr th:only-of-type {\n",
       "        vertical-align: middle;\n",
       "    }\n",
       "\n",
       "    .dataframe tbody tr th {\n",
       "        vertical-align: top;\n",
       "    }\n",
       "\n",
       "    .dataframe thead th {\n",
       "        text-align: right;\n",
       "    }\n",
       "</style>\n",
       "<table border=\"1\" class=\"dataframe\">\n",
       "  <thead>\n",
       "    <tr style=\"text-align: right;\">\n",
       "      <th></th>\n",
       "      <th>Hours</th>\n",
       "      <th>Scores</th>\n",
       "    </tr>\n",
       "  </thead>\n",
       "  <tbody>\n",
       "    <tr>\n",
       "      <th>count</th>\n",
       "      <td>25.000000</td>\n",
       "      <td>25.000000</td>\n",
       "    </tr>\n",
       "    <tr>\n",
       "      <th>mean</th>\n",
       "      <td>5.012000</td>\n",
       "      <td>51.480000</td>\n",
       "    </tr>\n",
       "    <tr>\n",
       "      <th>std</th>\n",
       "      <td>2.525094</td>\n",
       "      <td>25.286887</td>\n",
       "    </tr>\n",
       "    <tr>\n",
       "      <th>min</th>\n",
       "      <td>1.100000</td>\n",
       "      <td>17.000000</td>\n",
       "    </tr>\n",
       "    <tr>\n",
       "      <th>25%</th>\n",
       "      <td>2.700000</td>\n",
       "      <td>30.000000</td>\n",
       "    </tr>\n",
       "    <tr>\n",
       "      <th>50%</th>\n",
       "      <td>4.800000</td>\n",
       "      <td>47.000000</td>\n",
       "    </tr>\n",
       "    <tr>\n",
       "      <th>75%</th>\n",
       "      <td>7.400000</td>\n",
       "      <td>75.000000</td>\n",
       "    </tr>\n",
       "    <tr>\n",
       "      <th>max</th>\n",
       "      <td>9.200000</td>\n",
       "      <td>95.000000</td>\n",
       "    </tr>\n",
       "  </tbody>\n",
       "</table>\n",
       "</div>"
      ],
      "text/plain": [
       "           Hours     Scores\n",
       "count  25.000000  25.000000\n",
       "mean    5.012000  51.480000\n",
       "std     2.525094  25.286887\n",
       "min     1.100000  17.000000\n",
       "25%     2.700000  30.000000\n",
       "50%     4.800000  47.000000\n",
       "75%     7.400000  75.000000\n",
       "max     9.200000  95.000000"
      ]
     },
     "execution_count": 4,
     "metadata": {},
     "output_type": "execute_result"
    }
   ],
   "source": [
    "data.describe()"
   ]
  },
  {
   "cell_type": "markdown",
   "id": "0b3f6596",
   "metadata": {},
   "source": [
    "# __Exploring the Data__\n",
    "\n",
    "__Checking, if there is any correlation between the 2 variables.Correlation =0.98, which is a high positive correlation. This means the dependent variable increases as the independent variable increases.__"
   ]
  },
  {
   "cell_type": "code",
   "execution_count": 5,
   "id": "0e2bbf31",
   "metadata": {},
   "outputs": [
    {
     "name": "stdout",
     "output_type": "stream",
     "text": [
      "Correlation: n            Hours    Scores\n",
      "Hours   1.000000  0.976191\n",
      "Scores  0.976191  1.000000\n"
     ]
    }
   ],
   "source": [
    "print(\"Correlation: \"+ 'n', data.corr()) \n"
   ]
  },
  {
   "cell_type": "markdown",
   "id": "c6de842a",
   "metadata": {},
   "source": [
    "__Heatmap of correlation Matrix__"
   ]
  },
  {
   "cell_type": "code",
   "execution_count": 6,
   "id": "7a6ac8de",
   "metadata": {},
   "outputs": [
    {
     "data": {
      "text/plain": [
       "<AxesSubplot:>"
      ]
     },
     "execution_count": 6,
     "metadata": {},
     "output_type": "execute_result"
    },
    {
     "data": {
      "image/png": "[encoded data removed]",
      "text/plain": [
       "<Figure size 432x288 with 2 Axes>"
      ]
     },
     "metadata": {
      "needs_background": "light"
     },
     "output_type": "display_data"
    }
   ],
   "source": [
    "plt.subplot(1,1,1)\n",
    "sns.heatmap(data.corr(), annot=True)"
   ]
  },
  {
   "cell_type": "markdown",
   "id": "c080450b",
   "metadata": {},
   "source": [
    "__Scatter Plot__"
   ]
  },
  {
   "cell_type": "code",
   "execution_count": 7,
   "id": "62f0335d",
   "metadata": {},
   "outputs": [
    {
     "data": {
      "image/png": "[encoded data removed]",
      "text/plain": [
       "<Figure size 432x288 with 1 Axes>"
      ]
     },
     "metadata": {
      "needs_background": "light"
     },
     "output_type": "display_data"
    }
   ],
   "source": [
    "x1=data['Hours']\n",
    "y=data['Scores']\n",
    "plt.scatter(x1,y)\n",
    "plt.xlabel('Hours',fontsize = 20)\n",
    "plt.ylabel('Scores',fontsize = 20)\n",
    "plt.grid()\n",
    "plt.show()\n"
   ]
  },
  {
   "cell_type": "markdown",
   "id": "e8a8a1eb",
   "metadata": {},
   "source": [
    "# Adding a Constant"
   ]
  },
  {
   "cell_type": "code",
   "execution_count": 8,
   "id": "897b9f0b",
   "metadata": {},
   "outputs": [
    {
     "data": {
      "text/html": [
       "<div>\n",
       "<style scoped>\n",
       "    .dataframe tbody tr th:only-of-type {\n",
       "        vertical-align: middle;\n",
       "    }\n",
       "\n",
       "    .dataframe tbody tr th {\n",
       "        vertical-align: top;\n",
       "    }\n",
       "\n",
       "    .dataframe thead th {\n",
       "        text-align: right;\n",
       "    }\n",
       "</style>\n",
       "<table border=\"1\" class=\"dataframe\">\n",
       "  <thead>\n",
       "    <tr style=\"text-align: right;\">\n",
       "      <th></th>\n",
       "      <th>const</th>\n",
       "      <th>Hours</th>\n",
       "    </tr>\n",
       "  </thead>\n",
       "  <tbody>\n",
       "    <tr>\n",
       "      <th>0</th>\n",
       "      <td>1.0</td>\n",
       "      <td>2.5</td>\n",
       "    </tr>\n",
       "    <tr>\n",
       "      <th>1</th>\n",
       "      <td>1.0</td>\n",
       "      <td>5.1</td>\n",
       "    </tr>\n",
       "    <tr>\n",
       "      <th>2</th>\n",
       "      <td>1.0</td>\n",
       "      <td>3.2</td>\n",
       "    </tr>\n",
       "    <tr>\n",
       "      <th>3</th>\n",
       "      <td>1.0</td>\n",
       "      <td>8.5</td>\n",
       "    </tr>\n",
       "    <tr>\n",
       "      <th>4</th>\n",
       "      <td>1.0</td>\n",
       "      <td>3.5</td>\n",
       "    </tr>\n",
       "    <tr>\n",
       "      <th>5</th>\n",
       "      <td>1.0</td>\n",
       "      <td>1.5</td>\n",
       "    </tr>\n",
       "    <tr>\n",
       "      <th>6</th>\n",
       "      <td>1.0</td>\n",
       "      <td>9.2</td>\n",
       "    </tr>\n",
       "    <tr>\n",
       "      <th>7</th>\n",
       "      <td>1.0</td>\n",
       "      <td>5.5</td>\n",
       "    </tr>\n",
       "  </tbody>\n",
       "</table>\n",
       "</div>"
      ],
      "text/plain": [
       "   const  Hours\n",
       "0    1.0    2.5\n",
       "1    1.0    5.1\n",
       "2    1.0    3.2\n",
       "3    1.0    8.5\n",
       "4    1.0    3.5\n",
       "5    1.0    1.5\n",
       "6    1.0    9.2\n",
       "7    1.0    5.5"
      ]
     },
     "execution_count": 8,
     "metadata": {},
     "output_type": "execute_result"
    }
   ],
   "source": [
    "x=sm.add_constant(x1)\n",
    "x.head(8)"
   ]
  },
  {
   "cell_type": "markdown",
   "id": "9e62c34d",
   "metadata": {},
   "source": [
    "## __Displaying the Regression Results__\n",
    "__Here,result variable will contain the output of the ordinary least squares regression, or OLS.Ordinary least squares (OLS) is a type of linear least squares method for estimating the unknown parameters in a linear regression model. As arguments, dependent variable y and the newly defined x are passed. At last, .fit() method is used that applies a specific estimation technique to obtain the fit of the model.__"
   ]
  },
  {
   "cell_type": "code",
   "execution_count": 9,
   "id": "1c4266ed",
   "metadata": {},
   "outputs": [
    {
     "data": {
      "text/html": [
       "<table class=\"simpletable\">\n",
       "<caption>OLS Regression Results</caption>\n",
       "<tr>\n",
       "  <th>Dep. Variable:</th>         <td>Scores</td>      <th>  R-squared:         </th> <td>   0.953</td>\n",
       "</tr>\n",
       "<tr>\n",
       "  <th>Model:</th>                   <td>OLS</td>       <th>  Adj. R-squared:    </th> <td>   0.951</td>\n",
       "</tr>\n",
       "<tr>\n",
       "  <th>Method:</th>             <td>Least Squares</td>  <th>  F-statistic:       </th> <td>   465.8</td>\n",
       "</tr>\n",
       "<tr>\n",
       "  <th>Date:</th>             <td>Tue, 05 Oct 2021</td> <th>  Prob (F-statistic):</th> <td>9.13e-17</td>\n",
       "</tr>\n",
       "<tr>\n",
       "  <th>Time:</th>                 <td>00:46:21</td>     <th>  Log-Likelihood:    </th> <td> -77.514</td>\n",
       "</tr>\n",
       "<tr>\n",
       "  <th>No. Observations:</th>      <td>    25</td>      <th>  AIC:               </th> <td>   159.0</td>\n",
       "</tr>\n",
       "<tr>\n",
       "  <th>Df Residuals:</th>          <td>    23</td>      <th>  BIC:               </th> <td>   161.5</td>\n",
       "</tr>\n",
       "<tr>\n",
       "  <th>Df Model:</th>              <td>     1</td>      <th>                     </th>     <td> </td>   \n",
       "</tr>\n",
       "<tr>\n",
       "  <th>Covariance Type:</th>      <td>nonrobust</td>    <th>                     </th>     <td> </td>   \n",
       "</tr>\n",
       "</table>\n",
       "<table class=\"simpletable\">\n",
       "<tr>\n",
       "    <td></td>       <th>coef</th>     <th>std err</th>      <th>t</th>      <th>P>|t|</th>  <th>[0.025</th>    <th>0.975]</th>  \n",
       "</tr>\n",
       "<tr>\n",
       "  <th>const</th> <td>    2.4837</td> <td>    2.532</td> <td>    0.981</td> <td> 0.337</td> <td>   -2.753</td> <td>    7.721</td>\n",
       "</tr>\n",
       "<tr>\n",
       "  <th>Hours</th> <td>    9.7758</td> <td>    0.453</td> <td>   21.583</td> <td> 0.000</td> <td>    8.839</td> <td>   10.713</td>\n",
       "</tr>\n",
       "</table>\n",
       "<table class=\"simpletable\">\n",
       "<tr>\n",
       "  <th>Omnibus:</th>       <td> 7.616</td> <th>  Durbin-Watson:     </th> <td>   1.460</td>\n",
       "</tr>\n",
       "<tr>\n",
       "  <th>Prob(Omnibus):</th> <td> 0.022</td> <th>  Jarque-Bera (JB):  </th> <td>   2.137</td>\n",
       "</tr>\n",
       "<tr>\n",
       "  <th>Skew:</th>          <td>-0.216</td> <th>  Prob(JB):          </th> <td>   0.343</td>\n",
       "</tr>\n",
       "<tr>\n",
       "  <th>Kurtosis:</th>      <td> 1.634</td> <th>  Cond. No.          </th> <td>    13.0</td>\n",
       "</tr>\n",
       "</table><br/><br/>Notes:<br/>[1] Standard Errors assume that the covariance matrix of the errors is correctly specified."
      ],
      "text/plain": [
       "<class 'statsmodels.iolib.summary.Summary'>\n",
       "\"\"\"\n",
       "                            OLS Regression Results                            \n",
       "==============================================================================\n",
       "Dep. Variable:                 Scores   R-squared:                       0.953\n",
       "Model:                            OLS   Adj. R-squared:                  0.951\n",
       "Method:                 Least Squares   F-statistic:                     465.8\n",
       "Date:                Tue, 05 Oct 2021   Prob (F-statistic):           9.13e-17\n",
       "Time:                        00:46:21   Log-Likelihood:                -77.514\n",
       "No. Observations:                  25   AIC:                             159.0\n",
       "Df Residuals:                      23   BIC:                             161.5\n",
       "Df Model:                           1                                         \n",
       "Covariance Type:            nonrobust                                         \n",
       "==============================================================================\n",
       "                 coef    std err          t      P>|t|      [0.025      0.975]\n",
       "------------------------------------------------------------------------------\n",
       "const          2.4837      2.532      0.981      0.337      -2.753       7.721\n",
       "Hours          9.7758      0.453     21.583      0.000       8.839      10.713\n",
       "==============================================================================\n",
       "Omnibus:                        7.616   Durbin-Watson:                   1.460\n",
       "Prob(Omnibus):                  0.022   Jarque-Bera (JB):                2.137\n",
       "Skew:                          -0.216   Prob(JB):                        0.343\n",
       "Kurtosis:                       1.634   Cond. No.                         13.0\n",
       "==============================================================================\n",
       "\n",
       "Notes:\n",
       "[1] Standard Errors assume that the covariance matrix of the errors is correctly specified.\n",
       "\"\"\""
      ]
     },
     "execution_count": 9,
     "metadata": {},
     "output_type": "execute_result"
    }
   ],
   "source": [
    "result=sm.OLS(y,x).fit()\n",
    "result.summary()"
   ]
  },
  {
   "cell_type": "markdown",
   "id": "c83261ba",
   "metadata": {},
   "source": [
    "# Evaluating the model\n",
    "__From the sample model, we can interpret that around 95% of dependent variability can be explained by the model, and adjusted R Square is roughly the same as R Square meaning the model is quite robust.__"
   ]
  },
  {
   "cell_type": "code",
   "execution_count": 10,
   "id": "65ad650d",
   "metadata": {},
   "outputs": [
    {
     "name": "stdout",
     "output_type": "stream",
     "text": [
      "R Square : 0.9529481969048356\n",
      "Adjusted R Square : 0.9509024663354806\n"
     ]
    }
   ],
   "source": [
    "a=result.rsquared\n",
    "b=result.rsquared_adj\n",
    "print('R Square :',a)\n",
    "print('Adjusted R Square :',b)"
   ]
  },
  {
   "cell_type": "markdown",
   "id": "549fc25f",
   "metadata": {},
   "source": [
    "# __Plotting the Regression line__"
   ]
  },
  {
   "cell_type": "code",
   "execution_count": 11,
   "id": "c6060c96",
   "metadata": {},
   "outputs": [
    {
     "data": {
      "image/png": "[encoded data removed]",
      "text/plain": [
       "<Figure size 432x288 with 1 Axes>"
      ]
     },
     "metadata": {
      "needs_background": "light"
     },
     "output_type": "display_data"
    }
   ],
   "source": [
    "plt.scatter(x1,y)\n",
    "yhat=2.4837+x1*9.7758\n",
    "fig=plt.plot(x1,yhat,lw=4,c='red',label='regression line')\n",
    "plt.xlabel('Hours',fontsize=20)\n",
    "plt.ylabel('Scores', fontsize=20)\n",
    "plt.grid()"
   ]
  },
  {
   "cell_type": "markdown",
   "id": "4b0e22ad",
   "metadata": {},
   "source": [
    "# Making Predictions\n",
    "__Comparing Actual vs Predicted__"
   ]
  },
  {
   "cell_type": "code",
   "execution_count": 12,
   "id": "6ec550fe",
   "metadata": {},
   "outputs": [
    {
     "name": "stdout",
     "output_type": "stream",
     "text": [
      "   Hours   Actual Scores  Predicted Scores\n",
      "0    2.5              21          26.92320\n",
      "1    5.1              47          52.34028\n",
      "2    3.2              27          33.76626\n",
      "3    8.5              75          85.57800\n",
      "4    3.5              30          36.69900\n",
      "5    1.5              20          17.14740\n",
      "6    9.2              88          92.42106\n",
      "7    5.5              60          56.25060\n"
     ]
    }
   ],
   "source": [
    "mydata = {'Hours':x1,' Actual Scores':y, 'Predicted Scores': yhat}\n",
    "df = pd.DataFrame(mydata)\n",
    "print(df.head(8))"
   ]
  },
  {
   "cell_type": "code",
   "execution_count": 13,
   "id": "ff4d729f",
   "metadata": {},
   "outputs": [
    {
     "data": {
      "image/png": "[encoded data removed]",
      "text/plain": [
       "<Figure size 576x576 with 1 Axes>"
      ]
     },
     "metadata": {
      "needs_background": "light"
     },
     "output_type": "display_data"
    }
   ],
   "source": [
    "dataset = {' Actual Scores':y, 'Predicted Scores': yhat}\n",
    "df2 = pd.DataFrame(dataset)\n",
    "df2[0:5].plot(kind='bar',figsize=(8,8))\n",
    "plt.grid(which='major', linestyle='-', linewidth='0.5', color='orange')\n",
    "plt.grid(which='minor', linestyle=':', linewidth='0.5', color='blue')\n",
    "plt.show()"
   ]
  },
  {
   "cell_type": "code",
   "execution_count": 14,
   "id": "8986daf5",
   "metadata": {},
   "outputs": [
    {
     "name": "stdout",
     "output_type": "stream",
     "text": [
      "No of Hours: 9.25\n",
      "Predicted Scores: 92.90985\n"
     ]
    }
   ],
   "source": [
    "Hours=9.25\n",
    "predicted_score=2.4837+Hours*9.7758\n",
    "print(\"No of Hours:\", Hours)\n",
    "print(\"Predicted Scores:\" , predicted_score)"
   ]
  },
  {
   "cell_type": "markdown",
   "id": "2081107a",
   "metadata": {},
   "source": [
    "# __CONCLUSION__:\n",
    "Successful Implementation of  the task is done.\n"
   ]
  }
 ],
 "metadata": {
  "kernelspec": {
   "display_name": "Python 3",
   "language": "python",
   "name": "python3"
  },
  "language_info": {
   "codemirror_mode": {
    "name": "ipython",
    "version": 3
   },
   "file_extension": ".py",
   "mimetype": "text/x-python",
   "name": "python",
   "nbconvert_exporter": "python",
   "pygments_lexer": "ipython3",
   "version": "3.8.8"
  }
 },
 "nbformat": 4,
 "nbformat_minor": 5
}
